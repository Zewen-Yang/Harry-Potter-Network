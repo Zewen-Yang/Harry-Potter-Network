{
 "cells": [
  {
   "cell_type": "code",
   "execution_count": 1,
   "metadata": {
    "canvas": {
     "comments": [],
     "componentType": "CodeCell",
     "copiedOriginId": null,
     "diskcache": true,
     "headerColor": "none",
     "id": "6aea2a98-e4aa-49f2-bdfb-258571f2276b",
     "isComponent": true,
     "name": "Import requirements",
     "parents": []
    },
    "tags": []
   },
   "outputs": [],
   "source": [
    "import pandas as pd\n",
    "import time\n",
    "from selenium import webdriver\n",
    "from selenium.webdriver.common.by import By\n",
    "from webdriver_manager.chrome import ChromeDriverManager"
   ]
  },
  {
   "cell_type": "markdown",
   "metadata": {
    "canvas": {
     "comments": [],
     "componentType": "CodeCell",
     "copiedOriginId": null,
     "diskcache": false,
     "headerColor": "none",
     "id": "b4c269c1-3722-48a5-bfc5-c9b159ef7192",
     "isComponent": false,
     "name": "",
     "parents": []
    }
   },
   "source": [
    "## Create Driver"
   ]
  },
  {
   "cell_type": "code",
   "execution_count": 2,
   "metadata": {
    "canvas": {
     "comments": [],
     "componentType": "CodeCell",
     "copiedOriginId": null,
     "diskcache": true,
     "headerColor": "none",
     "id": "dcf99bf2-6d47-4369-a217-c20372f97fac",
     "isComponent": true,
     "name": "Create a browser driver",
     "parents": [
      {
       "id": "6aea2a98-e4aa-49f2-bdfb-258571f2276b",
       "name": "Import requirements"
      }
     ]
    },
    "tags": []
   },
   "outputs": [
    {
     "name": "stderr",
     "output_type": "stream",
     "text": [
      "[WDM] - Downloading: 100%|███████████████████████████████████████████████████████████████████████████████████████████████████████████████████████████████████████| 7.95M/7.95M [00:00<00:00, 9.89MB/s]\n",
      "Warning: Link pipeline does not support non-serializable objects by policy in order to pass objects from a parent component to a child component. Objects ['driver'] in component 'Create a browser driver' cannot be serialized. so these are only available in the component in which they have been declared. If necessary, please redefine the objects in the child components\n"
     ]
    }
   ],
   "source": [
    "driver = webdriver.Chrome(ChromeDriverManager().install())"
   ]
  },
  {
   "cell_type": "markdown",
   "metadata": {
    "canvas": {
     "comments": [],
     "componentType": "CodeCell",
     "copiedOriginId": null,
     "diskcache": false,
     "headerColor": "none",
     "id": "dc2c3b79-a298-437e-a8f0-3d1b9b7b4ee8",
     "isComponent": false,
     "name": "",
     "parents": []
    }
   },
   "source": [
    "## Go to the Characters Page"
   ]
  },
  {
   "cell_type": "code",
   "execution_count": null,
   "metadata": {
    "canvas": {
     "comments": [],
     "componentType": "CodeCell",
     "copiedOriginId": null,
     "diskcache": false,
     "headerColor": "none",
     "id": "a3d7b088-31c4-4b3e-8a85-c15ed1754a34",
     "isComponent": true,
     "name": "Go to the website",
     "parents": [
      {
       "id": "dcf99bf2-6d47-4369-a217-c20372f97fac",
       "name": "Create a browser driver"
      }
     ]
    },
    "tags": []
   },
   "outputs": [
    {
     "name": "stderr",
     "output_type": "stream",
     "text": [
      "Warning: Link pipeline does not support non-serializable objects by policy in order to pass objects from a parent component to a child component. Objects ['driver'] in component 'Create a browser driver' cannot be serialized. so these are only available in the component in which they have been declared. If necessary, please redefine the objects in the child components\n"
     ]
    }
   ],
   "source": [
    "# set up web driver and navigate to page\n",
    "page_url = \"https://www.hp-lexicon.org/characters/#notable_characters\"\n",
    "driver = webdriver.Chrome() # replace with appropriate driver for your browser\n",
    "driver.get(page_url)\n",
    "\n",
    "# click on the button after 3s\n",
    "time.sleep(3) # wait for 3 seconds\n",
    "driver.find_element(By.XPATH, '//button[text()=\"Continue with Recommended Cookies\"]').click() # locate and click \"Continue with Recommended Cookies\" button using its XPath"
   ]
  },
  {
   "cell_type": "markdown",
   "metadata": {
    "canvas": {
     "comments": [],
     "componentType": "CodeCell",
     "copiedOriginId": null,
     "diskcache": false,
     "headerColor": "none",
     "id": "1a6e5afe-ded9-4028-b842-8660816f31f8",
     "isComponent": false,
     "name": "",
     "parents": []
    }
   },
   "source": [
    "## Find out All the names of Characters by Alphabet"
   ]
  },
  {
   "cell_type": "code",
   "execution_count": 100,
   "metadata": {
    "canvas": {
     "comments": [],
     "componentType": "CodeCell",
     "copiedOriginId": null,
     "diskcache": false,
     "headerColor": "none",
     "id": "32aa6241-b0ec-440e-90de-7d9c5611527e",
     "isComponent": true,
     "name": "Build a dictionary",
     "parents": [
      {
       "id": "a3d7b088-31c4-4b3e-8a85-c15ed1754a34",
       "name": "Go to the website"
      }
     ]
    },
    "tags": []
   },
   "outputs": [
    {
     "data": {
      "text/plain": [
       "[{'Alphabet Index': 'A',\n",
       "  'url': 'https://www.hp-lexicon.org/character/?letter=A'},\n",
       " {'Alphabet Index': 'B',\n",
       "  'url': 'https://www.hp-lexicon.org/character/?letter=B'},\n",
       " {'Alphabet Index': 'C',\n",
       "  'url': 'https://www.hp-lexicon.org/character/?letter=C'},\n",
       " {'Alphabet Index': 'D',\n",
       "  'url': 'https://www.hp-lexicon.org/character/?letter=D'},\n",
       " {'Alphabet Index': 'E',\n",
       "  'url': 'https://www.hp-lexicon.org/character/?letter=E'},\n",
       " {'Alphabet Index': 'F',\n",
       "  'url': 'https://www.hp-lexicon.org/character/?letter=F'},\n",
       " {'Alphabet Index': 'G',\n",
       "  'url': 'https://www.hp-lexicon.org/character/?letter=G'},\n",
       " {'Alphabet Index': 'H',\n",
       "  'url': 'https://www.hp-lexicon.org/character/?letter=H'},\n",
       " {'Alphabet Index': 'I',\n",
       "  'url': 'https://www.hp-lexicon.org/character/?letter=I'},\n",
       " {'Alphabet Index': 'J',\n",
       "  'url': 'https://www.hp-lexicon.org/character/?letter=J'},\n",
       " {'Alphabet Index': 'K',\n",
       "  'url': 'https://www.hp-lexicon.org/character/?letter=K'},\n",
       " {'Alphabet Index': 'L',\n",
       "  'url': 'https://www.hp-lexicon.org/character/?letter=L'},\n",
       " {'Alphabet Index': 'M',\n",
       "  'url': 'https://www.hp-lexicon.org/character/?letter=M'},\n",
       " {'Alphabet Index': 'N',\n",
       "  'url': 'https://www.hp-lexicon.org/character/?letter=N'},\n",
       " {'Alphabet Index': 'O',\n",
       "  'url': 'https://www.hp-lexicon.org/character/?letter=O'},\n",
       " {'Alphabet Index': 'P',\n",
       "  'url': 'https://www.hp-lexicon.org/character/?letter=P'},\n",
       " {'Alphabet Index': 'Q',\n",
       "  'url': 'https://www.hp-lexicon.org/character/?letter=Q'},\n",
       " {'Alphabet Index': 'R',\n",
       "  'url': 'https://www.hp-lexicon.org/character/?letter=R'},\n",
       " {'Alphabet Index': 'S',\n",
       "  'url': 'https://www.hp-lexicon.org/character/?letter=S'},\n",
       " {'Alphabet Index': 'T',\n",
       "  'url': 'https://www.hp-lexicon.org/character/?letter=T'},\n",
       " {'Alphabet Index': 'U',\n",
       "  'url': 'https://www.hp-lexicon.org/character/?letter=U'},\n",
       " {'Alphabet Index': 'V',\n",
       "  'url': 'https://www.hp-lexicon.org/character/?letter=V'},\n",
       " {'Alphabet Index': 'W',\n",
       "  'url': 'https://www.hp-lexicon.org/character/?letter=W'},\n",
       " {'Alphabet Index': 'X',\n",
       "  'url': 'https://www.hp-lexicon.org/character/?letter=X'},\n",
       " {'Alphabet Index': 'Y',\n",
       "  'url': 'https://www.hp-lexicon.org/character/?letter=Y'},\n",
       " {'Alphabet Index': 'Z',\n",
       "  'url': 'https://www.hp-lexicon.org/character/?letter=Z'}]"
      ]
     },
     "execution_count": 100,
     "metadata": {},
     "output_type": "execute_result"
    }
   ],
   "source": [
    "# Build alphabet list\n",
    "alphabet_list = driver.find_elements(By.CSS_SELECTOR, \"li.enabled a\")\n",
    "\n",
    "alphabet = []\n",
    "for element in alphabet_list:\n",
    "    alphabet_index = element.text\n",
    "    alphabet_url = element.get_attribute(\"href\")\n",
    "    alphabet.append({\"Alphabet Index\": alphabet_index, \"url\": alphabet_url})\n",
    "\n",
    "alphabet"
   ]
  },
  {
   "attachments": {},
   "cell_type": "markdown",
   "metadata": {},
   "source": [
    "## Store the data"
   ]
  },
  {
   "cell_type": "code",
   "execution_count": 101,
   "metadata": {
    "canvas": {
     "comments": [],
     "componentType": "CodeCell",
     "copiedOriginId": null,
     "diskcache": false,
     "headerColor": "none",
     "id": "b4eaf4ab-58a4-4069-b335-2b658bcc5db4",
     "isComponent": false,
     "name": "",
     "parents": []
    }
   },
   "outputs": [
    {
     "data": {
      "text/html": [
       "<div>\n",
       "<style scoped>\n",
       "    .dataframe tbody tr th:only-of-type {\n",
       "        vertical-align: middle;\n",
       "    }\n",
       "\n",
       "    .dataframe tbody tr th {\n",
       "        vertical-align: top;\n",
       "    }\n",
       "\n",
       "    .dataframe thead th {\n",
       "        text-align: right;\n",
       "    }\n",
       "</style>\n",
       "<table border=\"1\" class=\"dataframe\">\n",
       "  <thead>\n",
       "    <tr style=\"text-align: right;\">\n",
       "      <th></th>\n",
       "      <th>Alphabet Index</th>\n",
       "      <th>Character</th>\n",
       "    </tr>\n",
       "  </thead>\n",
       "  <tbody>\n",
       "    <tr>\n",
       "      <th>0</th>\n",
       "      <td>A</td>\n",
       "      <td></td>\n",
       "    </tr>\n",
       "    <tr>\n",
       "      <th>1</th>\n",
       "      <td>A</td>\n",
       "      <td>Mrs. Abbott</td>\n",
       "    </tr>\n",
       "    <tr>\n",
       "      <th>2</th>\n",
       "      <td>A</td>\n",
       "      <td>Abbott family</td>\n",
       "    </tr>\n",
       "    <tr>\n",
       "      <th>3</th>\n",
       "      <td>A</td>\n",
       "      <td>Hannah Abbott</td>\n",
       "    </tr>\n",
       "    <tr>\n",
       "      <th>4</th>\n",
       "      <td>A</td>\n",
       "      <td>Abel Treetops</td>\n",
       "    </tr>\n",
       "    <tr>\n",
       "      <th>...</th>\n",
       "      <td>...</td>\n",
       "      <td>...</td>\n",
       "    </tr>\n",
       "    <tr>\n",
       "      <th>2041</th>\n",
       "      <td>Z</td>\n",
       "      <td>Georgi Zdravko</td>\n",
       "    </tr>\n",
       "    <tr>\n",
       "      <th>2042</th>\n",
       "      <td>Z</td>\n",
       "      <td>Zograf</td>\n",
       "    </tr>\n",
       "    <tr>\n",
       "      <th>2043</th>\n",
       "      <td>Z</td>\n",
       "      <td>Zonko</td>\n",
       "    </tr>\n",
       "    <tr>\n",
       "      <th>2044</th>\n",
       "      <td>Z</td>\n",
       "      <td>Valentina Vázquez</td>\n",
       "    </tr>\n",
       "    <tr>\n",
       "      <th>2045</th>\n",
       "      <td>Z</td>\n",
       "      <td>Zygmunt Budge</td>\n",
       "    </tr>\n",
       "  </tbody>\n",
       "</table>\n",
       "<p>2046 rows × 2 columns</p>\n",
       "</div>"
      ],
      "text/plain": [
       "     Alphabet Index          Character\n",
       "0                 A                   \n",
       "1                 A        Mrs. Abbott\n",
       "2                 A      Abbott family\n",
       "3                 A      Hannah Abbott\n",
       "4                 A      Abel Treetops\n",
       "...             ...                ...\n",
       "2041              Z     Georgi Zdravko\n",
       "2042              Z             Zograf\n",
       "2043              Z              Zonko\n",
       "2044              Z  Valentina Vázquez\n",
       "2045              Z      Zygmunt Budge\n",
       "\n",
       "[2046 rows x 2 columns]"
      ]
     },
     "execution_count": 101,
     "metadata": {},
     "output_type": "execute_result"
    }
   ],
   "source": [
    "# Create an empty list to store the characters\n",
    "character_list = []\n",
    "\n",
    "# Loop through each index in the alphabet\n",
    "for index in alphabet:\n",
    "    # Access the webpage corresponding to the current index\n",
    "    driver.get(index[\"url\"])\n",
    "    \n",
    "    # Find all the character names on the current webpage\n",
    "    character_names = driver.find_elements(By.CSS_SELECTOR, \"article a span\")\n",
    "    \n",
    "    # Loop through each character name and add it to the character list along with its corresponding alphabet index\n",
    "    for name in character_names:\n",
    "        character_list.append({\"Alphabet Index\": index[\"Alphabet Index\"], \"Character\": name.text})\n",
    "        \n",
    "# Create a Pandas DataFrame from the character list\n",
    "df = pd.DataFrame(character_list)"
   ]
  },
  {
   "cell_type": "code",
   "execution_count": 104,
   "metadata": {
    "canvas": {
     "comments": [],
     "componentType": "CodeCell",
     "copiedOriginId": null,
     "diskcache": false,
     "headerColor": "none",
     "id": "a5394ec4-6953-4daa-8750-02510ea985c1",
     "isComponent": false,
     "name": "",
     "parents": []
    }
   },
   "outputs": [],
   "source": [
    "# Store the df into csv file\n",
    "df = pd.DataFrame(character_list)\n",
    "df.to_csv(\"Harry_Potter_characters.csv\")"
   ]
  }
 ],
 "metadata": {
  "canvas": {
   "colorPalette": [
    "inherit",
    "inherit",
    "inherit",
    "inherit",
    "inherit",
    "inherit",
    "inherit",
    "inherit",
    "inherit",
    "inherit"
   ],
   "parameters": [],
   "version": "1.0"
  },
  "kernelspec": {
   "display_name": "Python 3 (ipykernel)",
   "language": "python",
   "name": "python3"
  },
  "language_info": {
   "codemirror_mode": {
    "name": "ipython",
    "version": 3
   },
   "file_extension": ".py",
   "mimetype": "text/x-python",
   "name": "python",
   "nbconvert_exporter": "python",
   "pygments_lexer": "ipython3",
   "version": "3.10.9"
  },
  "vscode": {
   "interpreter": {
    "hash": "ac6ae535d8bb5fdce079b3826860f9b94c676159d93e7242103ebc3f845f6fb9"
   }
  }
 },
 "nbformat": 4,
 "nbformat_minor": 4
}
